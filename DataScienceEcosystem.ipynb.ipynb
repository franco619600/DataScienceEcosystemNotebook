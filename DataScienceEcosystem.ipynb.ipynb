{
 "cells": [
  {
   "cell_type": "markdown",
   "id": "7d2a774b-506e-4cdb-9acb-68e953778185",
   "metadata": {},
   "source": [
    "# Data Science Tools and Ecosystem"
   ]
  },
  {
   "cell_type": "markdown",
   "id": "7cfe0f44-a266-49cf-a010-6ad093cbc2d2",
   "metadata": {},
   "source": [
    "In this notebook, Data Science Tools and Ecosystem are summarized."
   ]
  },
  {
   "cell_type": "markdown",
   "id": "e7d963df-4cc5-422e-a298-35ed49eac0fd",
   "metadata": {},
   "source": [
    "**Objectives:**\n",
    "\n",
    "* Python, R, SQL\n",
    "* NumPy,Pandas,Matplotlib.\n",
    "* Jupyter Notebook: An interactive environment for writing and executing code, creating visualizations, and narrating data.RStudio: An integrated development environment (IDE) for R.\n",
    "* Demonstrate simple arithmetic expressions in Python.\n",
    "* Convert units (minutes to hours)."
   ]
  },
  {
   "cell_type": "markdown",
   "id": "f4b2fe75-e6b4-4c83-bb82-61eb7262163d",
   "metadata": {},
   "source": [
    "## Programming Languages in Data Science\n",
    "\n",
    "The most commonly used programming languages in Data Science are:\n",
    "\n",
    "* **Python:** It is the most popular language due to its simple syntax and the large number of available libraries (Pandas, NumPy, Scikit-learn).\n",
    "* **R:** Especially used in statistics and data visualization.\n",
    "* **SQL:** Essential for managing and analyzing databases.\n",
    "\n",
    "\n",
    "\n"
   ]
  },
  {
   "cell_type": "markdown",
   "id": "bf5a3340-2475-4950-9256-6f51c5989140",
   "metadata": {},
   "source": [
    "**Some of the commonly used libraries used by Data Scientists include:**\n",
    "\n",
    "* **Pandas:** For data manipulation and analysis.\n",
    "* **NumPy:** For numerical computing and array operations.\n",
    "* **Scikit-learn:** For machine learning algorithms."
   ]
  },
  {
   "cell_type": "markdown",
   "id": "ca15e7e7-1051-4ba8-a937-b6d2e4f1d2e2",
   "metadata": {},
   "source": [
    "| Data Science Tools |\n",
    "|-------------------|\n",
    "| Jupyter Notebook  |\n",
    "| RStudio          |\n",
    "| VS Code          |\n"
   ]
  },
  {
   "cell_type": "markdown",
   "id": "41fde583-effa-40c7-abae-f45b8cd69b00",
   "metadata": {},
   "source": [
    "### Below are a few examples of evaluating arithmetic expressions in Python."
   ]
  },
  {
   "cell_type": "code",
   "execution_count": 1,
   "id": "3ca3a590-aba0-4205-a016-7e8f67bdd8a0",
   "metadata": {},
   "outputs": [
    {
     "data": {
      "text/plain": [
       "17"
      ]
     },
     "execution_count": 1,
     "metadata": {},
     "output_type": "execute_result"
    }
   ],
   "source": [
    "# This a simple arithmetic expression to multiply then add integers.\n",
    "(3 * 4) + 5"
   ]
  },
  {
   "cell_type": "code",
   "execution_count": 2,
   "id": "20a8b768-5b38-45e9-8818-63e045643dbb",
   "metadata": {},
   "outputs": [
    {
     "data": {
      "text/plain": [
       "3.3333333333333335"
      ]
     },
     "execution_count": 2,
     "metadata": {},
     "output_type": "execute_result"
    }
   ],
   "source": [
    "# This will convert 200 minutes to hours by dividing by 60.\n",
    "200 / 60"
   ]
  },
  {
   "cell_type": "markdown",
   "id": "f71e2d9d-052e-42f6-8875-c28e4dc1e069",
   "metadata": {},
   "source": []
  }
 ],
 "metadata": {
  "kernelspec": {
   "display_name": "Python 3 (ipykernel)",
   "language": "python",
   "name": "python3"
  },
  "language_info": {
   "codemirror_mode": {
    "name": "ipython",
    "version": 3
   },
   "file_extension": ".py",
   "mimetype": "text/x-python",
   "name": "python",
   "nbconvert_exporter": "python",
   "pygments_lexer": "ipython3",
   "version": "3.11.9"
  }
 },
 "nbformat": 4,
 "nbformat_minor": 5
}
